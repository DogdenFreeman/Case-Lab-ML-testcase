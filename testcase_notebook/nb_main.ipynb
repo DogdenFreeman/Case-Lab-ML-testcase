{
 "cells": [
  {
   "cell_type": "code",
   "execution_count": 3,
   "id": "126d84a1-1e3a-40fb-9a55-e0a03c9f3bc3",
   "metadata": {},
   "outputs": [],
   "source": [
    "import os\n",
    "import numpy as np\n",
    "import pandas as pd\n",
    "from sklearn.model_selection import train_test_split\n",
    "from sklearn.preprocessing import LabelEncoder\n",
    "from tensorflow.keras.models import Sequential\n",
    "from tensorflow.keras.layers import Dense, Embedding, LSTM, SpatialDropout1D\n",
    "from tensorflow.keras.preprocessing.sequence import pad_sequences\n",
    "from tensorflow.keras.preprocessing.text import Tokenizer\n",
    "import nltk\n",
    "from nltk.corpus import stopwords"
   ]
  },
  {
   "cell_type": "code",
   "execution_count": 29,
   "id": "ea4df9fc-3ca3-4b59-b694-63debd56c367",
   "metadata": {},
   "outputs": [],
   "source": [
    "def load_data(data_dir):\n",
    "    reviews = []\n",
    "    labels = []\n",
    "    ratings = []\n",
    "    \n",
    "    for sentiment in ['neg', 'pos']:\n",
    "        folder_path = os.path.join(data_dir, sentiment)\n",
    "        for filename in os.listdir(folder_path):\n",
    "            if filename.endswith('.txt'):\n",
    "                with open(os.path.join(folder_path, filename), 'r', encoding='utf-8') as file:\n",
    "                    review = file.read()\n",
    "                    reviews.append(review)\n",
    "                    if sentiment == 'neg':\n",
    "                        labels.append(0)\n",
    "                        rating = int(filename.split('_')[1].replace('.txt', '')) \n",
    "                        ratings.append(rating)\n",
    "                    else:\n",
    "                        labels.append(1)\n",
    "                        rating = int(filename.split('_')[1].replace('.txt', '')) \n",
    "                        ratings.append(rating)\n",
    "    \n",
    "    return reviews, labels, ratings"
   ]
  },
  {
   "cell_type": "code",
   "execution_count": 31,
   "id": "f9e5312d-e8bf-4ce3-af1d-bc0374d72b25",
   "metadata": {},
   "outputs": [],
   "source": [
    "data_dir = 'Dataset/train'\n",
    "reviews, labels, ratings = load_data(data_dir)"
   ]
  },
  {
   "cell_type": "code",
   "execution_count": 35,
   "id": "6cc2397d-6c00-491b-ab87-307b264b21ee",
   "metadata": {},
   "outputs": [
    {
     "name": "stderr",
     "output_type": "stream",
     "text": [
      "[nltk_data] Downloading package stopwords to\n",
      "[nltk_data]     C:\\Users\\dogde\\AppData\\Roaming\\nltk_data...\n",
      "[nltk_data]   Package stopwords is already up-to-date!\n"
     ]
    }
   ],
   "source": [
    "nltk.download('stopwords')\n",
    "stop_words = set(stopwords.words('english'))\n",
    "reviews = [' '.join([word for word in review.lower().split() if word not in stop_words]) for review in reviews]\n"
   ]
  },
  {
   "cell_type": "code",
   "execution_count": 37,
   "id": "cf7baef8-3836-4ddb-9f4e-a705eb7cd94a",
   "metadata": {},
   "outputs": [],
   "source": [
    "tokenizer = Tokenizer()\n",
    "tokenizer.fit_on_texts(reviews)\n",
    "X = tokenizer.texts_to_sequences(reviews)\n",
    "X = pad_sequences(X)"
   ]
  },
  {
   "cell_type": "code",
   "execution_count": 39,
   "id": "0c0aafef-3e08-4f75-ada1-b6f942e84741",
   "metadata": {},
   "outputs": [],
   "source": [
    "y_class = np.array(labels)\n",
    "y_rank = np.array(ratings)\n",
    "X_train, X_test, y_class_train, y_class_test, y_rank_train, y_rank_test = train_test_split(X, y_class, y_rank, test_size=0.2, random_state=42)\n"
   ]
  },
  {
   "cell_type": "code",
   "execution_count": 43,
   "id": "74029f88-d8f2-4394-bfbf-bb9c6d10bca4",
   "metadata": {},
   "outputs": [],
   "source": [
    "model = Sequential()\n",
    "model.add(Embedding(input_dim=len(tokenizer.word_index) + 1, output_dim=128))\n",
    "model.add(SpatialDropout1D(0.2))\n",
    "model.add(LSTM(100))\n",
    "model.add(Dense(1, activation='sigmoid'))  # Для бинарной классификации\n",
    "\n",
    "model.compile(loss='binary_crossentropy', optimizer='adam', metrics=['accuracy'])\n"
   ]
  },
  {
   "cell_type": "code",
   "execution_count": 45,
   "id": "9bb14037-6f44-4d40-ad83-ef249c679c75",
   "metadata": {},
   "outputs": [
    {
     "name": "stdout",
     "output_type": "stream",
     "text": [
      "Epoch 1/5\n",
      "\u001b[1m313/313\u001b[0m \u001b[32m━━━━━━━━━━━━━━━━━━━━\u001b[0m\u001b[37m\u001b[0m \u001b[1m457s\u001b[0m 1s/step - accuracy: 0.7354 - loss: 0.5044 - val_accuracy: 0.8830 - val_loss: 0.3033\n",
      "Epoch 2/5\n",
      "\u001b[1m313/313\u001b[0m \u001b[32m━━━━━━━━━━━━━━━━━━━━\u001b[0m\u001b[37m\u001b[0m \u001b[1m482s\u001b[0m 2s/step - accuracy: 0.9414 - loss: 0.1647 - val_accuracy: 0.8844 - val_loss: 0.3024\n",
      "Epoch 3/5\n",
      "\u001b[1m313/313\u001b[0m \u001b[32m━━━━━━━━━━━━━━━━━━━━\u001b[0m\u001b[37m\u001b[0m \u001b[1m492s\u001b[0m 2s/step - accuracy: 0.9764 - loss: 0.0756 - val_accuracy: 0.8652 - val_loss: 0.3660\n",
      "Epoch 4/5\n",
      "\u001b[1m313/313\u001b[0m \u001b[32m━━━━━━━━━━━━━━━━━━━━\u001b[0m\u001b[37m\u001b[0m \u001b[1m517s\u001b[0m 2s/step - accuracy: 0.9815 - loss: 0.0580 - val_accuracy: 0.8746 - val_loss: 0.5074\n",
      "Epoch 5/5\n",
      "\u001b[1m313/313\u001b[0m \u001b[32m━━━━━━━━━━━━━━━━━━━━\u001b[0m\u001b[37m\u001b[0m \u001b[1m478s\u001b[0m 2s/step - accuracy: 0.9949 - loss: 0.0209 - val_accuracy: 0.8720 - val_loss: 0.5928\n"
     ]
    },
    {
     "data": {
      "text/plain": [
       "<keras.src.callbacks.history.History at 0x1d119262690>"
      ]
     },
     "execution_count": 45,
     "metadata": {},
     "output_type": "execute_result"
    }
   ],
   "source": [
    "model.fit(X_train, y_class_train, epochs=5, batch_size=64, validation_data=(X_test, y_class_test))\n"
   ]
  },
  {
   "cell_type": "code",
   "execution_count": 49,
   "id": "880022e4-0692-4aeb-87a3-52b8b995423e",
   "metadata": {},
   "outputs": [
    {
     "name": "stdout",
     "output_type": "stream",
     "text": [
      "\u001b[1m157/157\u001b[0m \u001b[32m━━━━━━━━━━━━━━━━━━━━\u001b[0m\u001b[37m\u001b[0m \u001b[1m14s\u001b[0m 86ms/step - accuracy: 0.8742 - loss: 0.5895\n",
      "Accuracy: 87.20%\n"
     ]
    }
   ],
   "source": [
    "loss, accuracy = model.evaluate(X_test, y_class_test)\n",
    "print(f'Accuracy: {accuracy * 100:.2f}%')"
   ]
  },
  {
   "cell_type": "code",
   "execution_count": 51,
   "id": "f7043b0d-30e6-44e4-9a52-e73e792bc123",
   "metadata": {},
   "outputs": [
    {
     "name": "stdout",
     "output_type": "stream",
     "text": [
      "\u001b[1m157/157\u001b[0m \u001b[32m━━━━━━━━━━━━━━━━━━━━\u001b[0m\u001b[37m\u001b[0m \u001b[1m14s\u001b[0m 89ms/step\n",
      "[[2160  355]\n",
      " [ 285 2200]]\n",
      "              precision    recall  f1-score   support\n",
      "\n",
      "           0       0.88      0.86      0.87      2515\n",
      "           1       0.86      0.89      0.87      2485\n",
      "\n",
      "    accuracy                           0.87      5000\n",
      "   macro avg       0.87      0.87      0.87      5000\n",
      "weighted avg       0.87      0.87      0.87      5000\n",
      "\n"
     ]
    }
   ],
   "source": [
    "from sklearn.metrics import classification_report, confusion_matrix\n",
    "\n",
    "y_pred = (model.predict(X_test) > 0.5).astype(\"int32\")\n",
    "print(confusion_matrix(y_class_test, y_pred))\n",
    "print(classification_report(y_class_test, y_pred))"
   ]
  },
  {
   "cell_type": "code",
   "execution_count": 53,
   "id": "31f9ec0a-3f6a-42f2-94e4-8c322dedc9b1",
   "metadata": {},
   "outputs": [
    {
     "name": "stderr",
     "output_type": "stream",
     "text": [
      "WARNING:absl:You are saving your model as an HDF5 file via `model.save()` or `keras.saving.save_model(model)`. This file format is considered legacy. We recommend using instead the native Keras format, e.g. `model.save('my_model.keras')` or `keras.saving.save_model(model, 'my_model.keras')`. \n"
     ]
    }
   ],
   "source": [
    "model.save('model.h5')"
   ]
  },
  {
   "cell_type": "code",
   "execution_count": 59,
   "id": "b311fbde-29f7-43ca-be26-3b50d75a2181",
   "metadata": {},
   "outputs": [],
   "source": [
    "model.save('model.keras')"
   ]
  },
  {
   "cell_type": "code",
   "execution_count": 61,
   "id": "2407e537-97bd-49d1-b82c-42439c40218d",
   "metadata": {},
   "outputs": [],
   "source": [
    "import pickle \n",
    "with open('tokenizer.pickle', 'wb') as handle: pickle.dump(tokenizer, handle, protocol=pickle.HIGHEST_PROTOCOL)"
   ]
  },
  {
   "cell_type": "code",
   "execution_count": null,
   "id": "7e484242-823b-486c-af6c-7b237c7c97a7",
   "metadata": {},
   "outputs": [],
   "source": []
  },
  {
   "cell_type": "code",
   "execution_count": null,
   "id": "3998d7f1-1989-4a09-8201-95cbd00e7d8f",
   "metadata": {},
   "outputs": [],
   "source": []
  }
 ],
 "metadata": {
  "kernelspec": {
   "display_name": "Python 3 (ipykernel)",
   "language": "python",
   "name": "python3"
  },
  "language_info": {
   "codemirror_mode": {
    "name": "ipython",
    "version": 3
   },
   "file_extension": ".py",
   "mimetype": "text/x-python",
   "name": "python",
   "nbconvert_exporter": "python",
   "pygments_lexer": "ipython3",
   "version": "3.12.4"
  }
 },
 "nbformat": 4,
 "nbformat_minor": 5
}
